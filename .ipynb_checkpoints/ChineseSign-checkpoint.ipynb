{
 "cells": [
  {
   "cell_type": "code",
   "execution_count": 1,
   "metadata": {
    "collapsed": true
   },
   "outputs": [],
   "source": [
    "animals = [\"monkey\", \"rooster\",\"dog\",\"pig\",\"rat\",\"ox\",\"tiger\",\"rabbit\",\"dragon\",\"snake\",\"horse\",\"goat\"]"
   ]
  },
  {
   "cell_type": "code",
   "execution_count": 2,
   "metadata": {
    "collapsed": false
   },
   "outputs": [
    {
     "data": {
      "text/plain": [
       "'tiger'"
      ]
     },
     "execution_count": 2,
     "metadata": {},
     "output_type": "execute_result"
    }
   ],
   "source": [
    "year=1986\n",
    "remnum=year%12\n",
    "animals[remnum]"
   ]
  },
  {
   "cell_type": "code",
   "execution_count": 19,
   "metadata": {
    "collapsed": false
   },
   "outputs": [],
   "source": [
    "def zodiac():\n",
    "    year = input(\"Please enter your year of birth: \")\n",
    "    if year==\"exit\":\n",
    "        print(\"Goodbye.\") \n",
    "    else:\n",
    "        year = float(year)\n",
    "        if year/round(year)!=1:\n",
    "            print(\"Please enter birth year as an interger number.\")\n",
    "            zodiac()\n",
    "        else:\n",
    "            year = int(year)\n",
    "          #  if year>2015:\n",
    "           #     print(\"You haven't been born yet!  How is this happening??\")\n",
    "            #    zodiac()\n",
    "            if year<1900:\n",
    "                print(\"You're still alive!??!\")\n",
    "                zodiac()\n",
    "            else:\n",
    "                animals = [\"monkey\", \"rooster\",\"dog\",\"pig\",\"rat\",\"ox\",\"tiger\",\"rabbit\",\"dragon\",\"snake\",\"horse\",\"goat\"]\n",
    "                print(\"Your zodiac sign is\", animals[year%12], \".\")"
   ]
  },
  {
   "cell_type": "code",
   "execution_count": 20,
   "metadata": {
    "collapsed": false
   },
   "outputs": [
    {
     "name": "stdout",
     "output_type": "stream",
     "text": [
      "Please enter your year of birth: 2016\n",
      "Your zodiac sign is monkey .\n"
     ]
    }
   ],
   "source": [
    "zodiac()"
   ]
  },
  {
   "cell_type": "code",
   "execution_count": null,
   "metadata": {
    "collapsed": true
   },
   "outputs": [],
   "source": []
  }
 ],
 "metadata": {
  "kernelspec": {
   "display_name": "Python 3",
   "language": "python",
   "name": "python3"
  },
  "language_info": {
   "codemirror_mode": {
    "name": "ipython",
    "version": 3
   },
   "file_extension": ".py",
   "mimetype": "text/x-python",
   "name": "python",
   "nbconvert_exporter": "python",
   "pygments_lexer": "ipython3",
   "version": "3.4.3"
  }
 },
 "nbformat": 4,
 "nbformat_minor": 0
}
