{
 "cells": [
  {
   "cell_type": "markdown",
   "metadata": {},
   "source": [
    "While taking a class on the culture of China, you have learned about the Chinese zodiac in which people fall into 1 of 12 categories, depending on the year of their birth. The categories, numbered 0 to 11, correspond to the following animals:\n",
    "(0) monkey\n",
    "(1) rooster\n",
    "(2) dog\n",
    "(3) pig\n",
    "(4) rat\n",
    "(5) ox\n",
    "(6) tiger\n",
    "(7) rabbit\n",
    "(8) dragon\n",
    "(9) snake\n",
    "(10) horse\n",
    "(11) goat\n",
    "Those who believe in this zodiac think that the year of a person's birth influences both their personality and fortune in life.\n",
    "Your task is to build a program that will ask a user for their birth year and tell them their zodiac sign.  If the user does not enter a number that can be interpreted as a year then an error message must be shown and the user given another chance.  If the user types \"quit\" then the program halts.\n",
    "For extra credit: save each year that is input to a file and print a chart showing how many of each type or animal have been returned.\n",
    "To find your zodiac sign, divide the year of your birth by 12. The remainder then determines your sign. For example: The remainder when we divide 1985 by 12, is 5; therefore, a person born in 1985 is an ox according to the Chinese zodiac."
   ]
  },
  {
   "cell_type": "code",
   "execution_count": 86,
   "metadata": {
    "collapsed": false
   },
   "outputs": [
    {
     "name": "stdout",
     "output_type": "stream",
     "text": [
      "Enter your birth year:kwjf\n",
      "You did not provide a year in the form of an integer.\n"
     ]
    }
   ],
   "source": [
    "# ZodiacSetup will do all the opening, loading, and closing of files/data\n",
    "def ZodiacSetup():\n",
    "    # Open the zodiac descriptions file\n",
    "    zodiacText = open(\"zodiacDescriptions.txt\",'r')\n",
    "\n",
    "    # Load/read the file. We are going to make a list with each line of the file as a list item\n",
    "    zodiacList = []\n",
    "    for animal in zodiacText:\n",
    "        if animal != '\\n':\n",
    "            zodiacList.append(animal)\n",
    "    \n",
    "    # Close the file\n",
    "    zodiacText.close()\n",
    "\n",
    "    return zodiacList\n",
    "\n",
    "def ZodiacCalc():\n",
    "    birthYear = input(\"Enter your birth year:\")\n",
    "    try:\n",
    "        birthYear = int(birthYear)\n",
    "        # Do some fancy figuring stuff out\n",
    "        zodiacIndex = birthYear%12\n",
    "        # Tell user the result\n",
    "        print(\"Your Chinese Zodiac animal is the\", zodiacList[zodiacIndex])\n",
    "        \n",
    "    except ValueError:\n",
    "        print(\"You did not provide a year in the form of an integer.\")\n",
    "    \n",
    "    return birthYear\n",
    "             \n",
    "#Repeat\n",
    "zodiacList = ZodiacSetup()\n",
    "birthYear=0\n",
    "while type(birthYear) is int:\n",
    "    birthYear = ZodiacCalc()"
   ]
  },
  {
   "cell_type": "code",
   "execution_count": null,
   "metadata": {
    "collapsed": false
   },
   "outputs": [],
   "source": []
  },
  {
   "cell_type": "code",
   "execution_count": null,
   "metadata": {
    "collapsed": true
   },
   "outputs": [],
   "source": []
  }
 ],
 "metadata": {
  "kernelspec": {
   "display_name": "Python 3",
   "language": "python",
   "name": "python3"
  },
  "language_info": {
   "codemirror_mode": {
    "name": "ipython",
    "version": 3
   },
   "file_extension": ".py",
   "mimetype": "text/x-python",
   "name": "python",
   "nbconvert_exporter": "python",
   "pygments_lexer": "ipython3",
   "version": "3.4.3"
  }
 },
 "nbformat": 4,
 "nbformat_minor": 0
}
